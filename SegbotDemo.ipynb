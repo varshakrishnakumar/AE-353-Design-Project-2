{
 "cells": [
  {
   "cell_type": "markdown",
   "id": "middle-acoustic",
   "metadata": {},
   "source": [
    "# Differential drive robot (i.e., \"segbot\") in artificial gravity"
   ]
  },
  {
   "cell_type": "markdown",
   "id": "working-minority",
   "metadata": {},
   "source": [
    "Import modules and configure the notebook."
   ]
  },
  {
   "cell_type": "code",
   "execution_count": 119,
   "id": "dimensional-contamination",
   "metadata": {},
   "outputs": [
    {
     "data": {
      "text/plain": [
       "<module 'ae353_segbot' from 'C:\\\\Users\\\\HP\\\\Documents\\\\GitHub\\\\02_segbot\\\\ae353_segbot.py'>"
      ]
     },
     "execution_count": 119,
     "metadata": {},
     "output_type": "execute_result"
    }
   ],
   "source": [
    "# This module is part of the python standard library\n",
    "import time\n",
    "\n",
    "# These modules are part of other existing libraries\n",
    "import numpy as np\n",
    "import matplotlib.pyplot as plt\n",
    "\n",
    "# This is my own script (it is an interface to the pybullet simulator)\n",
    "import ae353_segbot\n",
    "\n",
    "# I often go back and forth between making changes to my scripts and to\n",
    "# the notebook in which they are used. One \"gotcha\" is that notebooks only\n",
    "# import modules or scripts ONCE. Subsequent imports don't do anything, and\n",
    "# in particular won't reflect any changes I've made to my scripts. To make\n",
    "# sure that I'm working with the \"latest version of my code, I use this bit\n",
    "# of magic, which forces the notebook to \"reload\" my script:\n",
    "import importlib\n",
    "import numpy as np\n",
    "from scipy import linalg\n",
    "from scipy import signal\n",
    "import sympy as sym\n",
    "importlib.reload(ae353_segbot)"
   ]
  },
  {
   "cell_type": "markdown",
   "id": "cc9e6eee",
   "metadata": {},
   "source": [
    "### Pybullet Simulator"
   ]
  },
  {
   "cell_type": "markdown",
   "id": "02b723c8",
   "metadata": {},
   "source": [
    "Create an instance of the `Simulator` class, which is an interface to the [pybullet](http://pybullet.org) simulation engine.\n",
    "\n",
    "There are several optional arguments:\n",
    "\n",
    "* `display` (`True` or `False`) is whether or not to show the simulation window;\n",
    "* `width` and `height` (positive integers, default `640` and `480`, respectively) is the weight and height of the simulation window (if shown) in pixels;\n",
    "* `bumpy` (`True` or `False`) is whether or not the station is \"bumpy\".\n",
    "\n",
    "**You must evaluate this cell only *once*.** If you want to start fresh with a new simulator, you must do `Kernel -> Restart` from the notebook menu first. If you evaluate this cell more than once without a call to `Kernel -> Restart` then you may get strange behavior that is hard to debug."
   ]
  },
  {
   "cell_type": "code",
   "execution_count": 120,
   "id": "359ab3ab",
   "metadata": {},
   "outputs": [],
   "source": [
    "simulator = ae353_segbot.Simulator(\n",
    "    display=True,\n",
    "    width=480,\n",
    "    height=320,\n",
    "    bumpy=True,\n",
    ")"
   ]
  },
  {
   "cell_type": "markdown",
   "id": "still-eclipse",
   "metadata": {},
   "source": [
    "### Construction of $f$"
   ]
  },
  {
   "cell_type": "code",
   "execution_count": 121,
   "id": "native-parts",
   "metadata": {},
   "outputs": [],
   "source": [
    "# Dimensions of chassis\n",
    "dx = 0.4\n",
    "dy = 0.6\n",
    "dz = 0.8\n",
    "\n",
    "# Distance between axle and COM of chassis\n",
    "h = 0.3\n",
    "\n",
    "# Half-distance between wheels\n",
    "a = 0.7 / 2\n",
    "\n",
    "# Mass of chassis\n",
    "mb = 12.\n",
    "\n",
    "# MOI of chassis\n",
    "Jbx = (mb / 12) * (dy**2 + dz**2)\n",
    "Jby = (mb / 12) * (dx**2 + dz**2)\n",
    "Jbz = (mb / 12) * (dx**2 + dy**2)\n",
    "\n",
    "# Radius of each wheel\n",
    "r = 0.325\n",
    "\n",
    "# Width of each wheel\n",
    "hw = 0.075\n",
    "\n",
    "# Mass of each wheel\n",
    "mw = 1.2\n",
    "\n",
    "# MOI of each wheel\n",
    "Jw = (mw / 2) * r**2\n",
    "Jwt = (mw / 12) * (3 * r**2 + hw**2)\n",
    "\n",
    "# Total mass\n",
    "m = mb + 2 * mw\n",
    "\n",
    "# Total MOI\n",
    "Jx = Jbx + 2 * Jwt\n",
    "Jy = Jby\n",
    "Jz = Jbz + 2 * Jwt\n",
    "\n",
    "# Station parameters\n",
    "station_velocity = -0.5 # <-- FIXME (change the velocity to change gravity)\n",
    "station_radius = 20.    # <-- radius in meters of inside surface of station\n",
    "\n",
    "# Acceleration of artifical gravity\n",
    "g = station_velocity**2 * station_radius"
   ]
  },
  {
   "cell_type": "code",
   "execution_count": 122,
   "id": "environmental-mouth",
   "metadata": {},
   "outputs": [],
   "source": [
    "# Dimensions\n",
    "h = sym.nsimplify(h)\n",
    "a = sym.nsimplify(a)\n",
    "r = sym.nsimplify(r)\n",
    "\n",
    "# Masses\n",
    "mb = sym.nsimplify(mb)\n",
    "mw = sym.nsimplify(mw)\n",
    "m = sym.nsimplify(m)\n",
    "\n",
    "# MOIs\n",
    "Jx = sym.nsimplify(Jx)\n",
    "Jy = sym.nsimplify(Jy)\n",
    "Jz = sym.nsimplify(Jz)\n",
    "Jw = sym.nsimplify(Jw)\n",
    "Jwt = sym.nsimplify(Jwt)\n",
    "\n",
    "# Gravity\n",
    "g = sym.nsimplify(g)"
   ]
  },
  {
   "cell_type": "markdown",
   "id": "critical-trauma",
   "metadata": {},
   "source": [
    "Define variables (with a flag to indicate they are all real numbers — this helps simplify):"
   ]
  },
  {
   "cell_type": "code",
   "execution_count": 123,
   "id": "single-bidding",
   "metadata": {},
   "outputs": [],
   "source": [
    "(e_l,\n",
    " e_h,\n",
    " v,\n",
    " w,\n",
    " theta,\n",
    " thetadot,\n",
    " tau_R,\n",
    " tau_L) = sym.symbols('e_l, e_h, v, w, theta, thetadot, tau_R, tau_L', real=True)"
   ]
  },
  {
   "cell_type": "markdown",
   "id": "foster-marketplace",
   "metadata": {},
   "source": [
    "Compute equations of motion, excluding lateral and heading errors (see [Tuttle, 2014](https://docs.lib.purdue.edu/cgi/viewcontent.cgi?article=1415&context=open_access_theses)):"
   ]
  },
  {
   "cell_type": "code",
   "execution_count": 124,
   "id": "religious-fountain",
   "metadata": {},
   "outputs": [],
   "source": [
    "M = sym.Matrix([[m + 2 * Jw / r**2, 0, mb * h * sym.cos(theta)],\n",
    "                [0, (Jx + mb * h**2) * sym.sin(theta)**2 + Jz * sym.cos(theta)**2 + (2 * Jw * a**2 / r**2) + 2 * mw * a**2, 0],\n",
    "                [mb * h * sym.cos(theta), 0, Jy * mb * h**2]])\n",
    "N = sym.Matrix([[mb * h * (w**2 + thetadot**2) * sym.sin(theta)],\n",
    "                [-2 * (Jx - Jz + m * h**2) * sym.cos(theta) * sym.sin(theta) * w * thetadot - mb * h * sym.sin(theta) * v * w],\n",
    "                [(Jx - Jz + mb * h**2) * sym.cos(theta) * sym.sin(theta) * w**2 + mb * g * h * sym.sin(theta)]])\n",
    "R = sym.Matrix([[1 / r, 1 / r],\n",
    "                [-a / r, a / r],\n",
    "                [-1, -1]])\n",
    "f = sym.simplify(M.inv() * (N + R * sym.Matrix([[tau_L], [tau_R]])))"
   ]
  },
  {
   "cell_type": "markdown",
   "id": "offensive-example",
   "metadata": {},
   "source": [
    "Compute full equations of motion:"
   ]
  },
  {
   "cell_type": "code",
   "execution_count": 125,
   "id": "recreational-termination",
   "metadata": {},
   "outputs": [
    {
     "data": {
      "text/latex": [
       "$\\displaystyle \\left[\\begin{matrix}v \\sin{\\left(e_{h} \\right)}\\\\w\\\\- \\frac{1200 \\tau_{L} + 1200 \\tau_{R} + 1404 \\left(\\dot{\\theta}^{2} + w^{2}\\right) \\sin{\\left(\\theta \\right)} + \\frac{65 \\left(50 \\tau_{L} + 50 \\tau_{R} - 39 w^{2} \\sin{\\left(2 \\theta \\right)} - 900 \\sin{\\left(\\theta \\right)}\\right) \\cos{\\left(\\theta \\right)}}{2}}{5850 \\cos^{2}{\\left(\\theta \\right)} - 6084}\\\\\\frac{32 \\left(- 875 \\tau_{L} + 875 \\tau_{R} - 1443 \\dot{\\theta} w \\sin{\\left(2 \\theta \\right)} - 2925 v w \\sin{\\left(\\theta \\right)}\\right)}{13 \\left(3120 \\sin^{2}{\\left(\\theta \\right)} + 2051\\right)}\\\\\\dot{\\theta}\\\\\\frac{5 \\left(4225 \\tau_{L} + 4225 \\tau_{R} - \\frac{6591 w^{2} \\sin{\\left(2 \\theta \\right)}}{2} + 30 \\left(100 \\tau_{L} + 100 \\tau_{R} + 117 \\left(\\dot{\\theta}^{2} + w^{2}\\right) \\sin{\\left(\\theta \\right)}\\right) \\cos{\\left(\\theta \\right)} - 76050 \\sin{\\left(\\theta \\right)}\\right)}{702 \\left(25 \\cos^{2}{\\left(\\theta \\right)} - 26\\right)}\\end{matrix}\\right]$"
      ],
      "text/plain": [
       "Matrix([\n",
       "[                                                                                                                                                                           v*sin(e_h)],\n",
       "[                                                                                                                                                                                    w],\n",
       "[        -(1200*tau_L + 1200*tau_R + 1404*(thetadot**2 + w**2)*sin(theta) + 65*(50*tau_L + 50*tau_R - 39*w**2*sin(2*theta) - 900*sin(theta))*cos(theta)/2)/(5850*cos(theta)**2 - 6084)],\n",
       "[                                                                    32*(-875*tau_L + 875*tau_R - 1443*thetadot*w*sin(2*theta) - 2925*v*w*sin(theta))/(13*(3120*sin(theta)**2 + 2051))],\n",
       "[                                                                                                                                                                             thetadot],\n",
       "[5*(4225*tau_L + 4225*tau_R - 6591*w**2*sin(2*theta)/2 + 30*(100*tau_L + 100*tau_R + 117*(thetadot**2 + w**2)*sin(theta))*cos(theta) - 76050*sin(theta))/(702*(25*cos(theta)**2 - 26))]])"
      ]
     },
     "execution_count": 125,
     "metadata": {},
     "output_type": "execute_result"
    }
   ],
   "source": [
    "### Compute full equations of motion (define right side of ODEs):\n",
    "f = sym.Matrix([[v * sym.sin(e_h)],\n",
    "                [w],\n",
    "                [f]])\n",
    "\n",
    "## Replace second-order ODE with two first-order ODEs\n",
    "f = f.row_insert(4,sym.Matrix([[thetadot]]))\n",
    "\n",
    "## Convert floating-point to rational numbers\n",
    "f = sym.nsimplify(f, rational=True)\n",
    "f"
   ]
  },
  {
   "cell_type": "markdown",
   "id": "korean-animal",
   "metadata": {},
   "source": [
    "Display the vector-valued function $f$ for which the equations of motion can be written as\n",
    "\n",
    "$$\\begin{bmatrix} \\dot{e}_\\text{lateral} \\\\ \\dot{e}_\\text{heading} \\\\ \\dot{v} \\\\ \\dot{w} \\\\ \\ddot{\\theta} \\\\ \\dot{\\theta} \\end{bmatrix} = f(e_\\text{lateral}, e_\\text{heading}, v, w, \\theta, \\dot{\\theta}, \\tau_R, \\tau_L)$$"
   ]
  },
  {
   "cell_type": "code",
   "execution_count": 43,
   "id": "8f16e9c9",
   "metadata": {},
   "outputs": [
    {
     "data": {
      "text/latex": [
       "$\\displaystyle \\left[\\begin{matrix}v \\sin{\\left(e_{h} \\right)}\\\\w\\\\- \\frac{1200 \\tau_{L} + 1200 \\tau_{R} + 1404 \\left(\\dot{\\theta}^{2} + w^{2}\\right) \\sin{\\left(\\theta \\right)} + \\frac{65 \\left(50 \\tau_{L} + 50 \\tau_{R} - 39 w^{2} \\sin{\\left(2 \\theta \\right)} - 900 \\sin{\\left(\\theta \\right)}\\right) \\cos{\\left(\\theta \\right)}}{2}}{5850 \\cos^{2}{\\left(\\theta \\right)} - 6084}\\\\\\frac{32 \\left(- 875 \\tau_{L} + 875 \\tau_{R} - 1443 \\dot{\\theta} w \\sin{\\left(2 \\theta \\right)} - 2925 v w \\sin{\\left(\\theta \\right)}\\right)}{13 \\left(3120 \\sin^{2}{\\left(\\theta \\right)} + 2051\\right)}\\\\\\frac{5 \\left(4225 \\tau_{L} + 4225 \\tau_{R} - \\frac{6591 w^{2} \\sin{\\left(2 \\theta \\right)}}{2} + 30 \\left(100 \\tau_{L} + 100 \\tau_{R} + 117 \\left(\\dot{\\theta}^{2} + w^{2}\\right) \\sin{\\left(\\theta \\right)}\\right) \\cos{\\left(\\theta \\right)} - 76050 \\sin{\\left(\\theta \\right)}\\right)}{702 \\left(25 \\cos^{2}{\\left(\\theta \\right)} - 26\\right)}\\end{matrix}\\right]$"
      ],
      "text/plain": [
       "Matrix([\n",
       "[                                                                                                                                                                           v*sin(e_h)],\n",
       "[                                                                                                                                                                                    w],\n",
       "[        -(1200*tau_L + 1200*tau_R + 1404*(thetadot**2 + w**2)*sin(theta) + 65*(50*tau_L + 50*tau_R - 39*w**2*sin(2*theta) - 900*sin(theta))*cos(theta)/2)/(5850*cos(theta)**2 - 6084)],\n",
       "[                                                                    32*(-875*tau_L + 875*tau_R - 1443*thetadot*w*sin(2*theta) - 2925*v*w*sin(theta))/(13*(3120*sin(theta)**2 + 2051))],\n",
       "[5*(4225*tau_L + 4225*tau_R - 6591*w**2*sin(2*theta)/2 + 30*(100*tau_L + 100*tau_R + 117*(thetadot**2 + w**2)*sin(theta))*cos(theta) - 76050*sin(theta))/(702*(25*cos(theta)**2 - 26))]])"
      ]
     },
     "execution_count": 43,
     "metadata": {},
     "output_type": "execute_result"
    }
   ],
   "source": [
    "f"
   ]
  },
  {
   "cell_type": "markdown",
   "id": "cf164662",
   "metadata": {},
   "source": [
    "\\left[\\begin{matrix}v \\sin{\\left(e_{h} \\right)}\\\\w\\\\- \\frac{1200 \\tau_{L} + 1200 \\tau_{R} + 1404 \\left(v_{2}^{2} + w^{2}\\right) \\sin{\\left(\\theta \\right)} + \\frac{65 \\left(50 \\tau_{L} + 50 \\tau_{R} - 39 w^{2} \\sin{\\left(2 \\theta \\right)} - 900 \\sin{\\left(\\theta \\right)}\\right) \\cos{\\left(\\theta \\right)}}{2}}{5850 \\cos^{2}{\\left(\\theta \\right)} - 6084}\\\\\\frac{32 \\left(- 875 \\tau_{L} + 875 \\tau_{R} - 2925 v w \\sin{\\left(\\theta \\right)} - 1443 v_{2} w \\sin{\\left(2 \\theta \\right)}\\right)}{13 \\left(3120 \\sin^{2}{\\left(\\theta \\right)} + 2051\\right)}\\\\\\frac{5 \\left(4225 \\tau_{L} + 4225 \\tau_{R} - \\frac{6591 w^{2} \\sin{\\left(2 \\theta \\right)}}{2} + 30 \\left(100 \\tau_{L} + 100 \\tau_{R} + 117 \\left(v_{2}^{2} + w^{2}\\right) \\sin{\\left(\\theta \\right)}\\right) \\cos{\\left(\\theta \\right)} - 76050 \\sin{\\left(\\theta \\right)}\\right)}{702 \\left(25 \\cos^{2}{\\left(\\theta \\right)} - 26\\right)}\\\\v_{2}\\end{matrix}\\right]"
   ]
  },
  {
   "cell_type": "code",
   "execution_count": 126,
   "id": "c24f5e8b",
   "metadata": {},
   "outputs": [],
   "source": [
    "def get_model(e_le, e_he, ve, we, thetae, thetadote, tau_Re, tau_Le):\n",
    "    \n",
    "    # Find A and B in symbolic form\n",
    "    A_sym = f.jacobian([e_l, e_h, v, w, theta, thetadot])\n",
    "    \n",
    "    B_sym = f.jacobian([tau_R, tau_L])\n",
    "    \n",
    "    # Create lambda functions to allow numerical evaluation of A and B\n",
    "    A_num = sym.lambdify([e_l, e_h, v, w, theta, thetadot, tau_R, tau_L], A_sym)\n",
    "    \n",
    "    B_num = sym.lambdify([e_l, e_h, v, w, theta, thetadot, tau_R, tau_L], B_sym)\n",
    "    \n",
    "    # Find A and B in numeric form (making sure the result is floating-point)\n",
    "    A = A_num(e_le, e_he, ve, we, thetae, thetadote, tau_Re, tau_Le).astype(float)\n",
    "    \n",
    "    B = B_num(e_le, e_he, ve, we, thetae, thetadote, tau_Re, tau_Le).astype(float)\n",
    "    \n",
    "    return A, B\n"
   ]
  },
  {
   "cell_type": "code",
   "execution_count": 88,
   "id": "33448af8",
   "metadata": {},
   "outputs": [
    {
     "data": {
      "text/plain": [
       "array([ 0.00000000e+00, -4.69208006e-13, -1.39369072e-12, ...,\n",
       "       -1.37015132e+00, -1.37501499e+00, -1.37978562e+00])"
      ]
     },
     "execution_count": 88,
     "metadata": {},
     "output_type": "execute_result"
    }
   ],
   "source": []
  },
  {
   "cell_type": "markdown",
   "id": "75738c69",
   "metadata": {},
   "source": [
    "Define a controller that maps sensor measurements to actuator commands. By default, it chooses to apply zero torque to the gimbal. Modify the `run` function to make the controller behave differently."
   ]
  },
  {
   "cell_type": "code",
   "execution_count": 127,
   "id": "e8164ad0",
   "metadata": {},
   "outputs": [],
   "source": [
    "class Controller:\n",
    "    def __init__(self, K, e_le, e_he, ve, we, thetae, thetadote, tau_Re, tau_Le):\n",
    "        self.K = K\n",
    "        self.e_le = e_le\n",
    "        self.e_he = e_he\n",
    "        self.ve = ve\n",
    "        self.we = we\n",
    "        self.thetae = thetae\n",
    "        self.thetadote = thetadote\n",
    "        self.tau_Re = tau_Re\n",
    "        self.tau_Le = tau_Le\n",
    "        pass\n",
    "    \n",
    "    def reset(self):\n",
    "        pass\n",
    "    \n",
    "    def run(\n",
    "            self,\n",
    "            t,\n",
    "            lateral_error,\n",
    "            heading_error,\n",
    "            forward_speed,\n",
    "            turning_rate,\n",
    "            pitch_angle,\n",
    "            pitch_rate,\n",
    "        ):\n",
    "        \n",
    "        # FIXME: replace the following lines\n",
    "        x = np.array([lateral_error - self.e_le, heading_error - self.e_he, forward_speed - self.ve, turning_rate - self.we, pitch_angle - self.thetae, pitch_rate - self.thetadote])\n",
    "        u = -self.K@x\n",
    "        tau_R = u[0]\n",
    "        tau_L = u[1]\n",
    "        right_wheel_torque = tau_R\n",
    "        left_wheel_torque = tau_L\n",
    "        \n",
    "        return right_wheel_torque, left_wheel_torque"
   ]
  },
  {
   "cell_type": "code",
   "execution_count": 128,
   "id": "5ed36c29",
   "metadata": {},
   "outputs": [],
   "source": [
    "\n",
    "def get_data(\n",
    "    simulator, \n",
    "    e_le,\n",
    "    e_he,\n",
    "    ve,\n",
    "    we,\n",
    "    thetae,\n",
    "    thetadote,\n",
    "    tau_Re,\n",
    "    tau_Le,\n",
    "    K,\n",
    "    vi, \n",
    "    e_li, \n",
    "    e_hi, \n",
    "    thetai, \n",
    "    svi,\n",
    "    max_time=5.0\n",
    "):\n",
    "    \n",
    "    # Create controller\n",
    "    controller = Controller(\n",
    "        K,\n",
    "        e_le,\n",
    "        e_he,\n",
    "        ve,\n",
    "        we,\n",
    "        thetae,\n",
    "        thetadote,\n",
    "        tau_Re,\n",
    "        tau_Le\n",
    "    )\n",
    "\n",
    "    # Reset simulator with initial conditions [v_i, e_l_i, e_h_i, theta_i, sv_i]\n",
    "    simulator.reset(\n",
    "        initial_speed=vi, \n",
    "        initial_lateral_error=e_li, \n",
    "        initial_heading_error=e_hi,\n",
    "        initial_pitch=thetai,\n",
    "        station_velocity=svi \n",
    "    )\n",
    "\n",
    "\n",
    "    # Reset controller\n",
    "    controller.reset()\n",
    "    \n",
    "    # Choose a camera view: [ camera_sideview(), camera_backview(), camera_wideview() ]\n",
    "    simulator.camera_backview()\n",
    "\n",
    "    # Run simulator\n",
    "    data = simulator.run(\n",
    "        controller,           # <-- required (an instance of your Controller class)\n",
    "        max_time=max_time,    # <-- optional (how long you want to run the simulation in seconds)\n",
    "        data_filename=None,   # <-- optional (name of file to which you want data saved, e.g., 'my_data.json')\n",
    "        video_filename=None,  # <-- optional (name of file to which you want video saved, e.g., 'my_video.mov')\n",
    "    )\n",
    "\n",
    "    # Return data\n",
    "    return data"
   ]
  },
  {
   "cell_type": "code",
   "execution_count": 129,
   "id": "c4952d3a",
   "metadata": {},
   "outputs": [],
   "source": [
    "e_le= 0.0\n",
    "e_he = 0.0\n",
    "ve = 3.0\n",
    "thetae = 0.\n",
    "thetadote = 0.\n",
    "we = 0.\n",
    "v2e = 0.\n",
    "tau_Re = 0.\n",
    "tau_Le = 0.\n",
    "\n",
    "\n",
    "f_num = sym.lambdify([e_l, e_h, w, theta, thetadot, tau_R, tau_L], f)\n",
    "f_eq = f_num(e_le, e_he, we, thetae, thetadote, tau_Re, tau_Le)\n",
    "\n",
    "# Convert numerical array from type 'object' to floats\n",
    "f_eq = np.array(f_eq).astype(np.float64)\n",
    "\n",
    "# raise exception if f != 0\n",
    "if not np.allclose(f_eq, 0.):\n",
    "    raise Exception('equilibrium point is invalid')\n"
   ]
  },
  {
   "cell_type": "code",
   "execution_count": 130,
   "id": "193eeb32",
   "metadata": {},
   "outputs": [
    {
     "name": "stdout",
     "output_type": "stream",
     "text": [
      "[[0.0, 3.0, 0.0, 0.0, 0.0, 0.0], [0.0, 0.0, 0.0, 1.0, 0.0, 0.0], [0.0, 0.0, 0.0, 0.0, -125.0, 0.0], [0.0, 0.0, -0.0, -0.0, -0.0, -0.0], [0.0, 0.0, 0.0, 0.0, 0.0, 1.0], [0.0, 0.0, 0.0, -0.0, 541.6666666666666, -0.0]]\n",
      "(6, 6)\n",
      "[[0.0, 0.0], [0.0, 0.0], [12.072649572649572, 12.072649572649572], [1.0501443948542923, -1.0501443948542923], [0.0, 0.0], [-51.46011396011396, -51.46011396011396]]\n"
     ]
    }
   ],
   "source": [
    "A, B = get_model(\n",
    "    e_le,\n",
    "    e_he,\n",
    "    ve,\n",
    "    we,\n",
    "    thetae,\n",
    "    thetadote,\n",
    "    tau_Re,\n",
    "    tau_Le\n",
    ")\n",
    "print(A.tolist())\n",
    "print(A.shape)\n",
    "\n",
    "print(B.tolist())"
   ]
  },
  {
   "cell_type": "markdown",
   "id": "bc096551",
   "metadata": {},
   "source": [
    "Create an instance of the controller."
   ]
  },
  {
   "cell_type": "markdown",
   "id": "551e0cc3",
   "metadata": {},
   "source": [
    "### Define a function for generating set of Q and R matrices\n",
    "Simulating Q and R matrices for testing purposes"
   ]
  },
  {
   "cell_type": "code",
   "execution_count": 131,
   "id": "ddfe6615",
   "metadata": {},
   "outputs": [],
   "source": [
    "e_le= 0.0\n",
    "e_he = 0.0\n",
    "ve = 3.0\n",
    "thetae = 0.\n",
    "we = 0.\n",
    "thetadote = 0.\n",
    "tau_Re = 0.\n",
    "tau_Le = 0.\n",
    "\n",
    "\n",
    "vi = 1.0\n",
    "e_li = 0.\n",
    "e_hi = 0.\n",
    "thetai = -0.\n",
    "svi = 0.0\n",
    "\n",
    "# q1 = np.linspace(1000, 200000)\n",
    "# print(q1.shape)\n",
    "\n",
    "# end specifies the upper limit on q1\n",
    "\n",
    "# Generates list of possible Q and R matrices\n",
    "def generate_lqrmatrices(end):\n",
    "    Q_list = []\n",
    "    R_list = []\n",
    "    q1 = np.linspace(1000, end)\n",
    "    for i in range(0,len(q1)):\n",
    "        Q = np.diag([q1[i], 15, 8, 0.5, 5., 2.])\n",
    "        Q_list.append(Q)\n",
    "#         r = np.random.randint(1, 100)\n",
    "        R = np.diag([1, 1])\n",
    "        R_list.append(R)\n",
    "    \n",
    "    return Q_list, R_list\n",
    "# Q = generate_lqrmatrices(100)[0][1]\n",
    "# # Q = np.diag([10000., 10., 1., 2., 10., 2.])\n",
    "# R = np.diag([1, 1])\n",
    "# P = linalg.solve_continuous_are(A, B, Q, R)\n",
    "# K = linalg.inv(R) @ B.T @ P\n"
   ]
  },
  {
   "cell_type": "code",
   "execution_count": 132,
   "id": "c7acb8a9",
   "metadata": {},
   "outputs": [
    {
     "ename": "error",
     "evalue": "Not connected to physics server.",
     "output_type": "error",
     "traceback": [
      "\u001b[1;31m---------------------------------------------------------------------------\u001b[0m",
      "\u001b[1;31merror\u001b[0m                                     Traceback (most recent call last)",
      "Input \u001b[1;32mIn [132]\u001b[0m, in \u001b[0;36m<module>\u001b[1;34m\u001b[0m\n\u001b[0;32m     19\u001b[0m             K_working\u001b[38;5;241m.\u001b[39mappend(K_list[i])\n\u001b[0;32m     21\u001b[0m     \u001b[38;5;28;01mreturn\u001b[39;00m K_working\n\u001b[1;32m---> 24\u001b[0m \u001b[43mgenerate_gains\u001b[49m\u001b[43m(\u001b[49m\u001b[43mgenerate_lqrmatrices\u001b[49m\u001b[43m(\u001b[49m\u001b[38;5;241;43m200000\u001b[39;49m\u001b[43m)\u001b[49m\u001b[43m[\u001b[49m\u001b[38;5;241;43m0\u001b[39;49m\u001b[43m]\u001b[49m\u001b[43m,\u001b[49m\u001b[43m \u001b[49m\u001b[43mgenerate_lqrmatrices\u001b[49m\u001b[43m(\u001b[49m\u001b[38;5;241;43m200000\u001b[39;49m\u001b[43m)\u001b[49m\u001b[43m[\u001b[49m\u001b[38;5;241;43m1\u001b[39;49m\u001b[43m]\u001b[49m\u001b[43m)\u001b[49m[\u001b[38;5;241m1\u001b[39m]\n",
      "Input \u001b[1;32mIn [132]\u001b[0m, in \u001b[0;36mgenerate_gains\u001b[1;34m(Q_list, R_list)\u001b[0m\n\u001b[0;32m     11\u001b[0m P_list\u001b[38;5;241m.\u001b[39mappend(linalg\u001b[38;5;241m.\u001b[39msolve_continuous_are(A, B, Q_list[i], R_list[i]))\n\u001b[0;32m     12\u001b[0m K_list\u001b[38;5;241m.\u001b[39mappend((linalg\u001b[38;5;241m.\u001b[39minv(R_list[i]) \u001b[38;5;241m@\u001b[39m B\u001b[38;5;241m.\u001b[39mT \u001b[38;5;241m@\u001b[39m P_list[i]))\n\u001b[1;32m---> 13\u001b[0m data \u001b[38;5;241m=\u001b[39m \u001b[43mget_data\u001b[49m\u001b[43m(\u001b[49m\u001b[43msimulator\u001b[49m\u001b[43m,\u001b[49m\u001b[43m \u001b[49m\u001b[43me_le\u001b[49m\u001b[43m,\u001b[49m\u001b[43m \u001b[49m\u001b[43me_he\u001b[49m\u001b[43m,\u001b[49m\u001b[43m \u001b[49m\u001b[43mve\u001b[49m\u001b[43m,\u001b[49m\u001b[43m \u001b[49m\u001b[43mwe\u001b[49m\u001b[43m,\u001b[49m\u001b[43m \u001b[49m\u001b[43mthetae\u001b[49m\u001b[43m,\u001b[49m\u001b[43m \u001b[49m\u001b[43mthetadote\u001b[49m\u001b[43m,\u001b[49m\u001b[43m \u001b[49m\u001b[43mtau_Re\u001b[49m\u001b[43m,\u001b[49m\u001b[43mtau_Le\u001b[49m\u001b[43m,\u001b[49m\u001b[43m \u001b[49m\u001b[43mK\u001b[49m\u001b[43m,\u001b[49m\u001b[43m \u001b[49m\u001b[43mvi\u001b[49m\u001b[43m,\u001b[49m\u001b[43me_li\u001b[49m\u001b[43m,\u001b[49m\u001b[43m \u001b[49m\u001b[43me_hi\u001b[49m\u001b[43m,\u001b[49m\u001b[43mthetai\u001b[49m\u001b[43m,\u001b[49m\u001b[43msvi\u001b[49m\u001b[43m,\u001b[49m\u001b[43mmax_time\u001b[49m\u001b[38;5;241;43m=\u001b[39;49m\u001b[38;5;241;43m20.0\u001b[39;49m\u001b[43m)\u001b[49m\n\u001b[0;32m     14\u001b[0m theta\u001b[38;5;241m.\u001b[39mappend(data[\u001b[38;5;124m'\u001b[39m\u001b[38;5;124mpitch_angle\u001b[39m\u001b[38;5;124m'\u001b[39m][\u001b[38;5;241m-\u001b[39m\u001b[38;5;241m1\u001b[39m])\n\u001b[0;32m     15\u001b[0m heading\u001b[38;5;241m.\u001b[39mappend(data[\u001b[38;5;124m'\u001b[39m\u001b[38;5;124mheading_error\u001b[39m\u001b[38;5;124m'\u001b[39m][\u001b[38;5;241m-\u001b[39m\u001b[38;5;241m1\u001b[39m])\n",
      "Input \u001b[1;32mIn [128]\u001b[0m, in \u001b[0;36mget_data\u001b[1;34m(simulator, e_le, e_he, ve, we, thetae, thetadote, tau_Re, tau_Le, K, vi, e_li, e_hi, thetai, svi, max_time)\u001b[0m\n\u001b[0;32m     47\u001b[0m simulator\u001b[38;5;241m.\u001b[39mcamera_backview()\n\u001b[0;32m     49\u001b[0m \u001b[38;5;66;03m# Run simulator\u001b[39;00m\n\u001b[1;32m---> 50\u001b[0m data \u001b[38;5;241m=\u001b[39m \u001b[43msimulator\u001b[49m\u001b[38;5;241;43m.\u001b[39;49m\u001b[43mrun\u001b[49m\u001b[43m(\u001b[49m\n\u001b[0;32m     51\u001b[0m \u001b[43m    \u001b[49m\u001b[43mcontroller\u001b[49m\u001b[43m,\u001b[49m\u001b[43m           \u001b[49m\u001b[38;5;66;43;03m# <-- required (an instance of your Controller class)\u001b[39;49;00m\n\u001b[0;32m     52\u001b[0m \u001b[43m    \u001b[49m\u001b[43mmax_time\u001b[49m\u001b[38;5;241;43m=\u001b[39;49m\u001b[43mmax_time\u001b[49m\u001b[43m,\u001b[49m\u001b[43m    \u001b[49m\u001b[38;5;66;43;03m# <-- optional (how long you want to run the simulation in seconds)\u001b[39;49;00m\n\u001b[0;32m     53\u001b[0m \u001b[43m    \u001b[49m\u001b[43mdata_filename\u001b[49m\u001b[38;5;241;43m=\u001b[39;49m\u001b[38;5;28;43;01mNone\u001b[39;49;00m\u001b[43m,\u001b[49m\u001b[43m   \u001b[49m\u001b[38;5;66;43;03m# <-- optional (name of file to which you want data saved, e.g., 'my_data.json')\u001b[39;49;00m\n\u001b[0;32m     54\u001b[0m \u001b[43m    \u001b[49m\u001b[43mvideo_filename\u001b[49m\u001b[38;5;241;43m=\u001b[39;49m\u001b[38;5;28;43;01mNone\u001b[39;49;00m\u001b[43m,\u001b[49m\u001b[43m  \u001b[49m\u001b[38;5;66;43;03m# <-- optional (name of file to which you want video saved, e.g., 'my_video.mov')\u001b[39;49;00m\n\u001b[0;32m     55\u001b[0m \u001b[43m\u001b[49m\u001b[43m)\u001b[49m\n\u001b[0;32m     57\u001b[0m \u001b[38;5;66;03m# Return data\u001b[39;00m\n\u001b[0;32m     58\u001b[0m \u001b[38;5;28;01mreturn\u001b[39;00m data\n",
      "File \u001b[1;32m~\\Documents\\GitHub\\02_segbot\\ae353_segbot.py:344\u001b[0m, in \u001b[0;36mSimulator.run\u001b[1;34m(self, controller, max_time, data_filename, video_filename, print_debug)\u001b[0m\n\u001b[0;32m    341\u001b[0m     w\u001b[38;5;241m.\u001b[39mappend_data(rgba)\n\u001b[0;32m    343\u001b[0m \u001b[38;5;28;01mwhile\u001b[39;00m \u001b[38;5;28;01mTrue\u001b[39;00m:\n\u001b[1;32m--> 344\u001b[0m     all_done \u001b[38;5;241m=\u001b[39m \u001b[38;5;28;43mself\u001b[39;49m\u001b[38;5;241;43m.\u001b[39;49m\u001b[43mstep\u001b[49m\u001b[43m(\u001b[49m\u001b[43mcontroller\u001b[49m\u001b[43m)\u001b[49m\n\u001b[0;32m    346\u001b[0m     \u001b[38;5;28;01mif\u001b[39;00m video_filename \u001b[38;5;129;01mis\u001b[39;00m \u001b[38;5;129;01mnot\u001b[39;00m \u001b[38;5;28;01mNone\u001b[39;00m:\n\u001b[0;32m    347\u001b[0m         \u001b[38;5;28;01mif\u001b[39;00m \u001b[38;5;28mself\u001b[39m\u001b[38;5;241m.\u001b[39mtime_step \u001b[38;5;241m%\u001b[39m \u001b[38;5;241m100\u001b[39m \u001b[38;5;241m==\u001b[39m \u001b[38;5;241m0\u001b[39m:\n",
      "File \u001b[1;32m~\\Documents\\GitHub\\02_segbot\\ae353_segbot.py:459\u001b[0m, in \u001b[0;36mSimulator.step\u001b[1;34m(self, controller)\u001b[0m\n\u001b[0;32m    456\u001b[0m         time_to_wait \u001b[38;5;241m=\u001b[39m t \u001b[38;5;241m-\u001b[39m time\u001b[38;5;241m.\u001b[39mtime()\n\u001b[0;32m    458\u001b[0m \u001b[38;5;66;03m# Take a simulation step\u001b[39;00m\n\u001b[1;32m--> 459\u001b[0m \u001b[43mpybullet\u001b[49m\u001b[38;5;241;43m.\u001b[39;49m\u001b[43mstepSimulation\u001b[49m\u001b[43m(\u001b[49m\u001b[43m)\u001b[49m\n\u001b[0;32m    461\u001b[0m \u001b[38;5;66;03m# Increment time step\u001b[39;00m\n\u001b[0;32m    462\u001b[0m \u001b[38;5;28mself\u001b[39m\u001b[38;5;241m.\u001b[39mtime_step \u001b[38;5;241m+\u001b[39m\u001b[38;5;241m=\u001b[39m \u001b[38;5;241m1\u001b[39m\n",
      "\u001b[1;31merror\u001b[0m: Not connected to physics server."
     ]
    }
   ],
   "source": [
    "# Generates list of possible K matrices from \n",
    "\n",
    "def generate_gains(Q_list, R_list):\n",
    "    K_list = []   # total K list\n",
    "    K_working = []\n",
    "    P_list = []\n",
    "    theta = []\n",
    "    heading = []\n",
    "    lateral = []\n",
    "    for i in range(len(Q_list)):\n",
    "        P_list.append(linalg.solve_continuous_are(A, B, Q_list[i], R_list[i]))\n",
    "        K_list.append((linalg.inv(R_list[i]) @ B.T @ P_list[i]))\n",
    "        data = get_data(simulator, e_le, e_he, ve, we, thetae, thetadote, tau_Re,tau_Le, K, vi,e_li, e_hi,thetai,svi,max_time=20.0)\n",
    "        theta.append(data['pitch_angle'][-1])\n",
    "        heading.append(data['heading_error'][-1])\n",
    "        lateral.append(data['lateral_error'][-1])\n",
    "        \n",
    "        if (abs(lateral[i]) and abs(heading[i])) < 0.01:\n",
    "            K_working.append(K_list[i])\n",
    "        \n",
    "    return K_working\n",
    "        \n",
    "        \n",
    "generate_gains(generate_lqrmatrices(200000)[0], generate_lqrmatrices(200000)[1])"
   ]
  },
  {
   "cell_type": "markdown",
   "id": "74613036",
   "metadata": {},
   "source": [
    "Reset the controller."
   ]
  },
  {
   "cell_type": "code",
   "execution_count": 99,
   "id": "9a0fa5ff",
   "metadata": {},
   "outputs": [
    {
     "ename": "NameError",
     "evalue": "name 'controller' is not defined",
     "output_type": "error",
     "traceback": [
      "\u001b[1;31m---------------------------------------------------------------------------\u001b[0m",
      "\u001b[1;31mNameError\u001b[0m                                 Traceback (most recent call last)",
      "Input \u001b[1;32mIn [99]\u001b[0m, in \u001b[0;36m<module>\u001b[1;34m\u001b[0m\n\u001b[1;32m----> 1\u001b[0m \u001b[43mcontroller\u001b[49m\u001b[38;5;241m.\u001b[39mreset()\n",
      "\u001b[1;31mNameError\u001b[0m: name 'controller' is not defined"
     ]
    }
   ],
   "source": [
    "controller.reset()"
   ]
  },
  {
   "cell_type": "markdown",
   "id": "5f7ffb3f",
   "metadata": {},
   "source": [
    "Choose a camera view from the following options:\n",
    "* `camera_sideview()`\n",
    "* `camera_backview()`\n",
    "* `camera_wideview()`"
   ]
  },
  {
   "cell_type": "code",
   "execution_count": 78,
   "id": "060c00d1",
   "metadata": {},
   "outputs": [],
   "source": [
    "simulator.camera_backview()"
   ]
  },
  {
   "cell_type": "markdown",
   "id": "c326b31f",
   "metadata": {},
   "source": [
    "Run the simulator."
   ]
  },
  {
   "cell_type": "code",
   "execution_count": 98,
   "id": "63f745f5",
   "metadata": {},
   "outputs": [
    {
     "ename": "NameError",
     "evalue": "name 'controller' is not defined",
     "output_type": "error",
     "traceback": [
      "\u001b[1;31m---------------------------------------------------------------------------\u001b[0m",
      "\u001b[1;31mNameError\u001b[0m                                 Traceback (most recent call last)",
      "Input \u001b[1;32mIn [98]\u001b[0m, in \u001b[0;36m<module>\u001b[1;34m\u001b[0m\n\u001b[0;32m      1\u001b[0m data \u001b[38;5;241m=\u001b[39m simulator\u001b[38;5;241m.\u001b[39mrun(\n\u001b[1;32m----> 2\u001b[0m     \u001b[43mcontroller\u001b[49m,           \u001b[38;5;66;03m# <-- required (an instance of your Controller class)\u001b[39;00m\n\u001b[0;32m      3\u001b[0m     max_time\u001b[38;5;241m=\u001b[39m\u001b[38;5;241m20.\u001b[39m,         \u001b[38;5;66;03m# <-- optional (how long you want to run the simulation in seconds)\u001b[39;00m\n\u001b[0;32m      4\u001b[0m     data_filename\u001b[38;5;241m=\u001b[39m\u001b[38;5;28;01mNone\u001b[39;00m,   \u001b[38;5;66;03m# <-- optional (save data to this file, e.g., 'my_data.json')\u001b[39;00m\n\u001b[0;32m      5\u001b[0m     video_filename\u001b[38;5;241m=\u001b[39m\u001b[38;5;28;01mNone\u001b[39;00m,  \u001b[38;5;66;03m# <-- optional (save video to this file, e.g., 'my_video.mov')\u001b[39;00m\n\u001b[0;32m      6\u001b[0m )\n",
      "\u001b[1;31mNameError\u001b[0m: name 'controller' is not defined"
     ]
    }
   ],
   "source": [
    "data = simulator.run(\n",
    "    controller,           # <-- required (an instance of your Controller class)\n",
    "    max_time=20.,         # <-- optional (how long you want to run the simulation in seconds)\n",
    "    data_filename=None,   # <-- optional (save data to this file, e.g., 'my_data.json')\n",
    "    video_filename=None,  # <-- optional (save video to this file, e.g., 'my_video.mov')\n",
    ")"
   ]
  },
  {
   "cell_type": "markdown",
   "id": "601a7926",
   "metadata": {},
   "source": [
    "Get, show, and save a snapshot of the simulation after the last time step."
   ]
  },
  {
   "cell_type": "code",
   "execution_count": 9,
   "id": "0cff3241",
   "metadata": {},
   "outputs": [
    {
     "data": {
      "image/png": "[encoded data removed]",
      "text/plain": [
       "<Figure size 576x576 with 1 Axes>"
      ]
     },
     "metadata": {
      "needs_background": "light"
     },
     "output_type": "display_data"
    }
   ],
   "source": [
    "# Get snapshot as height x width x 4 numpy array of RGBA values\n",
    "rgba = simulator.snapshot()\n",
    "\n",
    "# Display snapshot\n",
    "plt.figure(figsize=(8, 8))\n",
    "plt.imshow(rgba)\n",
    "\n",
    "# Save snapshot\n",
    "plt.imsave('my_snapshot.png', rgba)"
   ]
  },
  {
   "cell_type": "markdown",
   "id": "44463f64",
   "metadata": {},
   "source": []
  },
  {
   "cell_type": "markdown",
   "id": "58c95e55",
   "metadata": {},
   "source": [
    "Plot the results."
   ]
  },
  {
   "cell_type": "code",
   "execution_count": 133,
   "id": "0ff24bb2",
   "metadata": {},
   "outputs": [
    {
     "ename": "NameError",
     "evalue": "name 'data' is not defined",
     "output_type": "error",
     "traceback": [
      "\u001b[1;31m---------------------------------------------------------------------------\u001b[0m",
      "\u001b[1;31mNameError\u001b[0m                                 Traceback (most recent call last)",
      "Input \u001b[1;32mIn [133]\u001b[0m, in \u001b[0;36m<module>\u001b[1;34m\u001b[0m\n\u001b[0;32m      2\u001b[0m fig, (ax_pos, ax_vel, ax_pitch, ax_torque) \u001b[38;5;241m=\u001b[39m plt\u001b[38;5;241m.\u001b[39msubplots(\u001b[38;5;241m4\u001b[39m, \u001b[38;5;241m1\u001b[39m, figsize\u001b[38;5;241m=\u001b[39m(\u001b[38;5;241m8\u001b[39m, \u001b[38;5;241m8\u001b[39m), sharex\u001b[38;5;241m=\u001b[39m\u001b[38;5;28;01mTrue\u001b[39;00m)\n\u001b[0;32m      4\u001b[0m \u001b[38;5;66;03m# Plot lateral and heading error\u001b[39;00m\n\u001b[0;32m      5\u001b[0m ax_pos\u001b[38;5;241m.\u001b[39mplot(\n\u001b[1;32m----> 6\u001b[0m     \u001b[43mdata\u001b[49m[\u001b[38;5;124m'\u001b[39m\u001b[38;5;124mt\u001b[39m\u001b[38;5;124m'\u001b[39m], data[\u001b[38;5;124m'\u001b[39m\u001b[38;5;124mlateral_error\u001b[39m\u001b[38;5;124m'\u001b[39m],\n\u001b[0;32m      7\u001b[0m     label\u001b[38;5;241m=\u001b[39m\u001b[38;5;124m'\u001b[39m\u001b[38;5;124mlateral_error (m)\u001b[39m\u001b[38;5;124m'\u001b[39m, linewidth\u001b[38;5;241m=\u001b[39m\u001b[38;5;241m4\u001b[39m,\n\u001b[0;32m      8\u001b[0m )\n\u001b[0;32m      9\u001b[0m ax_pos\u001b[38;5;241m.\u001b[39mplot(\n\u001b[0;32m     10\u001b[0m     data[\u001b[38;5;124m'\u001b[39m\u001b[38;5;124mt\u001b[39m\u001b[38;5;124m'\u001b[39m], data[\u001b[38;5;124m'\u001b[39m\u001b[38;5;124mheading_error\u001b[39m\u001b[38;5;124m'\u001b[39m],\n\u001b[0;32m     11\u001b[0m     \u001b[38;5;124m'\u001b[39m\u001b[38;5;124m--\u001b[39m\u001b[38;5;124m'\u001b[39m, label\u001b[38;5;241m=\u001b[39m\u001b[38;5;124m'\u001b[39m\u001b[38;5;124mheading_error (rad)\u001b[39m\u001b[38;5;124m'\u001b[39m, linewidth\u001b[38;5;241m=\u001b[39m\u001b[38;5;241m4\u001b[39m,\n\u001b[0;32m     12\u001b[0m )\n\u001b[0;32m     13\u001b[0m ax_pos\u001b[38;5;241m.\u001b[39mgrid()\n",
      "\u001b[1;31mNameError\u001b[0m: name 'data' is not defined"
     ]
    },
    {
     "data": {
      "image/png": "[encoded data removed]",
      "text/plain": [
       "<Figure size 576x576 with 4 Axes>"
      ]
     },
     "metadata": {
      "needs_background": "light"
     },
     "output_type": "display_data"
    }
   ],
   "source": [
    "# Create a figure with three subplots, all of which share the same x-axis\n",
    "fig, (ax_pos, ax_vel, ax_pitch, ax_torque) = plt.subplots(4, 1, figsize=(8, 8), sharex=True)\n",
    "\n",
    "# Plot lateral and heading error\n",
    "ax_pos.plot(\n",
    "    data['t'], data['lateral_error'],\n",
    "    label='lateral_error (m)', linewidth=4,\n",
    ")\n",
    "ax_pos.plot(\n",
    "    data['t'], data['heading_error'],\n",
    "    '--', label='heading_error (rad)', linewidth=4,\n",
    ")\n",
    "ax_pos.grid()\n",
    "ax_pos.legend(fontsize=16)\n",
    "ax_pos.tick_params(labelsize=14)\n",
    "\n",
    "# Plot forward speed and turning rate\n",
    "ax_vel.plot(\n",
    "    data['t'], data['forward_speed'],\n",
    "    label='forward speed (m/s)', linewidth=4,\n",
    ")\n",
    "ax_vel.plot(\n",
    "    data['t'], data['turning_rate'],\n",
    "    '--', label='turning rate (rad / s)', linewidth=4,\n",
    ")\n",
    "ax_vel.grid()\n",
    "ax_vel.legend(fontsize=16)\n",
    "ax_vel.tick_params(labelsize=14)\n",
    "\n",
    "# Plot pitch angle and pitch rate\n",
    "ax_pitch.plot(\n",
    "    data['t'], data['pitch_angle'],\n",
    "    label='pitch angle (rad)', linewidth=4,\n",
    ")\n",
    "ax_pitch.plot(\n",
    "    data['t'], data['pitch_rate'],\n",
    "    '--', label='pitch rate (rad)', linewidth=4,\n",
    ")\n",
    "ax_pitch.grid()\n",
    "ax_pitch.legend(fontsize=16)\n",
    "ax_pitch.tick_params(labelsize=14)\n",
    "\n",
    "# Plot torques\n",
    "ax_torque.plot(\n",
    "    data['t'], data['right_wheel_torque_command'],\n",
    "    label='right wheel torque command (N-m)', linewidth=4,\n",
    ")\n",
    "ax_torque.plot(\n",
    "    data['t'], data['right_wheel_torque'],\n",
    "    '--', label='right wheel torque (N-m)', linewidth=4,\n",
    ")\n",
    "ax_torque.plot(\n",
    "    data['t'], data['left_wheel_torque_command'],\n",
    "    label='left wheel torque command (N-m)', linewidth=4,\n",
    ")\n",
    "ax_torque.plot(\n",
    "    data['t'], data['left_wheel_torque'],\n",
    "    '--', label='left wheel torque (N-m)', linewidth=4,\n",
    ")\n",
    "ax_torque.plot(\n",
    "    data['t'], -np.ones_like(data['t']) * simulator.tau_max,\n",
    "    ':', linewidth=4, color='C4', zorder=0,\n",
    ")\n",
    "ax_torque.plot(\n",
    "    data['t'], np.ones_like(data['t']) * simulator.tau_max,\n",
    "    ':', linewidth=4, color='C4', zorder=0,\n",
    ")\n",
    "ax_torque.grid()\n",
    "ax_torque.legend(fontsize=16)\n",
    "ax_torque.tick_params(labelsize=14)\n",
    "ax_torque.set_ylim(-1.2 * simulator.tau_max, 1.2 * simulator.tau_max)\n",
    "\n",
    "# Set x-axis properties (only need to do this on the last\n",
    "# subplot since all subplots share the same x-axis)\n",
    "ax_torque.set_xlabel('time (s)', fontsize=20)\n",
    "ax_torque.set_xlim([data['t'][0], data['t'][-1]])\n",
    "\n",
    "# Make the arrangement of subplots look nice\n",
    "fig.tight_layout()"
   ]
  },
  {
   "cell_type": "markdown",
   "id": "407559d4",
   "metadata": {},
   "source": [
    "Save the figure (without transparent background)."
   ]
  },
  {
   "cell_type": "code",
   "execution_count": 11,
   "id": "5d3c1b22",
   "metadata": {},
   "outputs": [],
   "source": [
    "fig.savefig('my_figure.png', facecolor='white', transparent=False)"
   ]
  }
 ],
 "metadata": {
  "kernelspec": {
   "display_name": "Python 3",
   "language": "python",
   "name": "python3"
  },
  "language_info": {
   "codemirror_mode": {
    "name": "ipython",
    "version": 3
   },
   "file_extension": ".py",
   "mimetype": "text/x-python",
   "name": "python",
   "nbconvert_exporter": "python",
   "pygments_lexer": "ipython3",
   "version": "3.10.2"
  }
 },
 "nbformat": 4,
 "nbformat_minor": 5
}
