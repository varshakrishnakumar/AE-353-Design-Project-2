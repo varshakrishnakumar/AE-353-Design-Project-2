{
 "cells": [
  {
   "cell_type": "markdown",
   "id": "occasional-george",
   "metadata": {},
   "source": [
    "# Equations of motion for segbot\n",
    "\n",
    "This notebook makes use of [SymPy](https://docs.sympy.org/), which is a Python library for symbolic mathematics."
   ]
  },
  {
   "cell_type": "code",
   "execution_count": 1,
   "id": "sitting-discount",
   "metadata": {},
   "outputs": [],
   "source": [
    "import numpy as np\n",
    "from scipy import linalg\n",
    "from scipy import signal\n",
    "import sympy as sym"
   ]
  },
  {
   "cell_type": "markdown",
   "id": "still-eclipse",
   "metadata": {},
   "source": [
    "Define physical constants, consistent with the URDF file:"
   ]
  },
  {
   "cell_type": "code",
   "execution_count": 2,
   "id": "native-parts",
   "metadata": {},
   "outputs": [],
   "source": [
    "# Dimensions of chassis\n",
    "dx = 0.4\n",
    "dy = 0.6\n",
    "dz = 0.8\n",
    "\n",
    "# Distance between axle and COM of chassis\n",
    "h = 0.3\n",
    "\n",
    "# Half-distance between wheels\n",
    "a = 0.7 / 2\n",
    "\n",
    "# Mass of chassis\n",
    "mb = 12.\n",
    "\n",
    "# MOI of chassis\n",
    "Jbx = (mb / 12) * (dy**2 + dz**2)\n",
    "Jby = (mb / 12) * (dx**2 + dz**2)\n",
    "Jbz = (mb / 12) * (dx**2 + dy**2)\n",
    "\n",
    "# Radius of each wheel\n",
    "r = 0.325\n",
    "\n",
    "# Width of each wheel\n",
    "hw = 0.075\n",
    "\n",
    "# Mass of each wheel\n",
    "mw = 1.2\n",
    "\n",
    "# MOI of each wheel\n",
    "Jw = (mw / 2) * r**2\n",
    "Jwt = (mw / 12) * (3 * r**2 + hw**2)\n",
    "\n",
    "# Total mass\n",
    "m = mb + 2 * mw\n",
    "\n",
    "# Total MOI\n",
    "Jx = Jbx + 2 * Jwt\n",
    "Jy = Jby\n",
    "Jz = Jbz + 2 * Jwt\n",
    "\n",
    "# Station parameters\n",
    "station_velocity = -0.5 # <-- FIXME (change the velocity to change gravity)\n",
    "station_radius = 20.    # <-- radius in meters of inside surface of station\n",
    "\n",
    "# Acceleration of artifical gravity\n",
    "g = station_velocity**2 * station_radius"
   ]
  },
  {
   "cell_type": "markdown",
   "id": "according-boost",
   "metadata": {},
   "source": [
    "Convert all physical constants to rational numbers:"
   ]
  },
  {
   "cell_type": "code",
   "execution_count": 3,
   "id": "environmental-mouth",
   "metadata": {},
   "outputs": [],
   "source": [
    "# Dimensions\n",
    "h = sym.nsimplify(h)\n",
    "a = sym.nsimplify(a)\n",
    "r = sym.nsimplify(r)\n",
    "\n",
    "# Masses\n",
    "mb = sym.nsimplify(mb)\n",
    "mw = sym.nsimplify(mw)\n",
    "m = sym.nsimplify(m)\n",
    "\n",
    "# MOIs\n",
    "Jx = sym.nsimplify(Jx)\n",
    "Jy = sym.nsimplify(Jy)\n",
    "Jz = sym.nsimplify(Jz)\n",
    "Jw = sym.nsimplify(Jw)\n",
    "Jwt = sym.nsimplify(Jwt)\n",
    "\n",
    "# Gravity\n",
    "g = sym.nsimplify(g)"
   ]
  },
  {
   "cell_type": "markdown",
   "id": "critical-trauma",
   "metadata": {},
   "source": [
    "Define variables (with a flag to indicate they are all real numbers — this helps simplify):"
   ]
  },
  {
   "cell_type": "code",
   "execution_count": 4,
   "id": "single-bidding",
   "metadata": {},
   "outputs": [],
   "source": [
    "(e_l,\n",
    " e_h,\n",
    " v,\n",
    " w,\n",
    " theta,\n",
    " thetadot,\n",
    " tau_R,\n",
    " tau_L,\n",
    " v2) = sym.symbols('e_l, e_h, v, w, theta, thetadot, tau_R, tau_L, v2', real=True)"
   ]
  },
  {
   "cell_type": "markdown",
   "id": "foster-marketplace",
   "metadata": {},
   "source": [
    "Compute equations of motion, excluding lateral and heading errors (see [Tuttle, 2014](https://docs.lib.purdue.edu/cgi/viewcontent.cgi?article=1415&context=open_access_theses)):"
   ]
  },
  {
   "cell_type": "code",
   "execution_count": 5,
   "id": "religious-fountain",
   "metadata": {},
   "outputs": [],
   "source": [
    "M = sym.Matrix([[m + 2 * Jw / r**2, 0, mb * h * sym.cos(theta)],\n",
    "                [0, (Jx + mb * h**2) * sym.sin(theta)**2 + Jz * sym.cos(theta)**2 + (2 * Jw * a**2 / r**2) + 2 * mw * a**2, 0],\n",
    "                [mb * h * sym.cos(theta), 0, Jy * mb * h**2]])\n",
    "N = sym.Matrix([[mb * h * (w**2 + v2**2) * sym.sin(theta)],\n",
    "                [-2 * (Jx - Jz + m * h**2) * sym.cos(theta) * sym.sin(theta) * w * v2 - mb * h * sym.sin(theta) * v * w],\n",
    "                [(Jx - Jz + mb * h**2) * sym.cos(theta) * sym.sin(theta) * w**2 + mb * g * h * sym.sin(theta)]])\n",
    "R = sym.Matrix([[1 / r, 1 / r],\n",
    "                [-a / r, a / r],\n",
    "                [-1, -1]])\n",
    "f = sym.simplify(M.inv() * (N + R * sym.Matrix([[tau_L], [tau_R]])))"
   ]
  },
  {
   "cell_type": "code",
   "execution_count": 169,
   "id": "chief-guatemala",
   "metadata": {},
   "outputs": [
    {
     "data": {
      "text/latex": [
       "$\\displaystyle \\left[\\begin{matrix}\\frac{78}{5} & 0 & \\frac{18 \\cos{\\left(\\theta \\right)}}{5}\\\\0 & \\frac{4289 \\sin^{2}{\\left(\\theta \\right)}}{2000} + \\frac{1169 \\cos^{2}{\\left(\\theta \\right)}}{2000} + \\frac{441}{1000} & 0\\\\\\frac{18 \\cos{\\left(\\theta \\right)}}{5} & 0 & \\frac{108}{125}\\end{matrix}\\right]$"
      ],
      "text/plain": [
       "Matrix([\n",
       "[           78/5,                                                            0, 18*cos(theta)/5],\n",
       "[              0, 4289*sin(theta)**2/2000 + 1169*cos(theta)**2/2000 + 441/1000,               0],\n",
       "[18*cos(theta)/5,                                                            0,         108/125]])"
      ]
     },
     "execution_count": 169,
     "metadata": {},
     "output_type": "execute_result"
    }
   ],
   "source": [
    "M"
   ]
  },
  {
   "cell_type": "code",
   "execution_count": 170,
   "id": "former-accordance",
   "metadata": {},
   "outputs": [
    {
     "data": {
      "text/latex": [
       "$\\displaystyle \\left[\\begin{matrix}\\left(\\frac{18 v_{2}^{2}}{5} + \\frac{18 w^{2}}{5}\\right) \\sin{\\left(\\theta \\right)}\\\\- \\frac{18 v w \\sin{\\left(\\theta \\right)}}{5} - \\frac{444 v_{2} w \\sin{\\left(\\theta \\right)} \\cos{\\left(\\theta \\right)}}{125}\\\\\\frac{39 w^{2} \\sin{\\left(\\theta \\right)} \\cos{\\left(\\theta \\right)}}{25} + 18 \\sin{\\left(\\theta \\right)}\\end{matrix}\\right]$"
      ],
      "text/plain": [
       "Matrix([\n",
       "[                      (18*v2**2/5 + 18*w**2/5)*sin(theta)],\n",
       "[-18*v*w*sin(theta)/5 - 444*v2*w*sin(theta)*cos(theta)/125],\n",
       "[         39*w**2*sin(theta)*cos(theta)/25 + 18*sin(theta)]])"
      ]
     },
     "execution_count": 170,
     "metadata": {},
     "output_type": "execute_result"
    }
   ],
   "source": [
    "N"
   ]
  },
  {
   "cell_type": "code",
   "execution_count": 171,
   "id": "liquid-algeria",
   "metadata": {
    "scrolled": true
   },
   "outputs": [
    {
     "data": {
      "text/latex": [
       "$\\displaystyle \\left[\\begin{matrix}\\frac{40}{13} & \\frac{40}{13}\\\\- \\frac{14}{13} & \\frac{14}{13}\\\\-1 & -1\\end{matrix}\\right]$"
      ],
      "text/plain": [
       "Matrix([\n",
       "[ 40/13, 40/13],\n",
       "[-14/13, 14/13],\n",
       "[    -1,    -1]])"
      ]
     },
     "execution_count": 171,
     "metadata": {},
     "output_type": "execute_result"
    }
   ],
   "source": [
    "R"
   ]
  },
  {
   "cell_type": "code",
   "execution_count": 172,
   "id": "a6682895",
   "metadata": {},
   "outputs": [
    {
     "data": {
      "text/latex": [
       "$\\displaystyle \\left[\\begin{matrix}- \\frac{1200 \\tau_{L} + 1200 \\tau_{R} + 1404 \\left(v_{2}^{2} + w^{2}\\right) \\sin{\\left(\\theta \\right)} + \\frac{65 \\left(50 \\tau_{L} + 50 \\tau_{R} - 39 w^{2} \\sin{\\left(2 \\theta \\right)} - 900 \\sin{\\left(\\theta \\right)}\\right) \\cos{\\left(\\theta \\right)}}{2}}{5850 \\cos^{2}{\\left(\\theta \\right)} - 6084}\\\\\\frac{32 \\left(- 875 \\tau_{L} + 875 \\tau_{R} - 2925 v w \\sin{\\left(\\theta \\right)} - 1443 v_{2} w \\sin{\\left(2 \\theta \\right)}\\right)}{13 \\left(3120 \\sin^{2}{\\left(\\theta \\right)} + 2051\\right)}\\\\\\frac{5 \\left(4225 \\tau_{L} + 4225 \\tau_{R} - \\frac{6591 w^{2} \\sin{\\left(2 \\theta \\right)}}{2} + 30 \\left(100 \\tau_{L} + 100 \\tau_{R} + 117 \\left(v_{2}^{2} + w^{2}\\right) \\sin{\\left(\\theta \\right)}\\right) \\cos{\\left(\\theta \\right)} - 76050 \\sin{\\left(\\theta \\right)}\\right)}{702 \\left(25 \\cos^{2}{\\left(\\theta \\right)} - 26\\right)}\\end{matrix}\\right]$"
      ],
      "text/plain": [
       "Matrix([\n",
       "[        -(1200*tau_L + 1200*tau_R + 1404*(v2**2 + w**2)*sin(theta) + 65*(50*tau_L + 50*tau_R - 39*w**2*sin(2*theta) - 900*sin(theta))*cos(theta)/2)/(5850*cos(theta)**2 - 6084)],\n",
       "[                                                                    32*(-875*tau_L + 875*tau_R - 2925*v*w*sin(theta) - 1443*v2*w*sin(2*theta))/(13*(3120*sin(theta)**2 + 2051))],\n",
       "[5*(4225*tau_L + 4225*tau_R - 6591*w**2*sin(2*theta)/2 + 30*(100*tau_L + 100*tau_R + 117*(v2**2 + w**2)*sin(theta))*cos(theta) - 76050*sin(theta))/(702*(25*cos(theta)**2 - 26))]])"
      ]
     },
     "execution_count": 172,
     "metadata": {},
     "output_type": "execute_result"
    }
   ],
   "source": [
    "f"
   ]
  },
  {
   "cell_type": "markdown",
   "id": "offensive-example",
   "metadata": {},
   "source": [
    "Compute full equations of motion:"
   ]
  },
  {
   "cell_type": "code",
   "execution_count": 6,
   "id": "recreational-termination",
   "metadata": {},
   "outputs": [],
   "source": [
    "f = sym.Matrix([[v * sym.sin(e_h)],\n",
    "                [w],\n",
    "                [f],\n",
    "                [v2]])"
   ]
  },
  {
   "cell_type": "markdown",
   "id": "korean-animal",
   "metadata": {},
   "source": [
    "Display the vector-valued function $f$ for which the equations of motion can be written as\n",
    "\n",
    "$$\\begin{bmatrix} \\dot{e}_\\text{lateral} \\\\ \\dot{e}_\\text{heading} \\\\ \\dot{v} \\\\ \\dot{w} \\\\ \\ddot{\\theta} \\\\ \\dot{\\theta} \\end{bmatrix} = f(e_\\text{lateral}, e_\\text{heading}, v, w, \\theta, \\dot{\\theta}, \\tau_R, \\tau_L)$$"
   ]
  },
  {
   "cell_type": "code",
   "execution_count": 174,
   "id": "8f16e9c9",
   "metadata": {},
   "outputs": [
    {
     "data": {
      "text/latex": [
       "$\\displaystyle \\left[\\begin{matrix}v \\sin{\\left(e_{h} \\right)}\\\\w\\\\- \\frac{1200 \\tau_{L} + 1200 \\tau_{R} + 1404 \\left(v_{2}^{2} + w^{2}\\right) \\sin{\\left(\\theta \\right)} + \\frac{65 \\left(50 \\tau_{L} + 50 \\tau_{R} - 39 w^{2} \\sin{\\left(2 \\theta \\right)} - 900 \\sin{\\left(\\theta \\right)}\\right) \\cos{\\left(\\theta \\right)}}{2}}{5850 \\cos^{2}{\\left(\\theta \\right)} - 6084}\\\\\\frac{32 \\left(- 875 \\tau_{L} + 875 \\tau_{R} - 2925 v w \\sin{\\left(\\theta \\right)} - 1443 v_{2} w \\sin{\\left(2 \\theta \\right)}\\right)}{13 \\left(3120 \\sin^{2}{\\left(\\theta \\right)} + 2051\\right)}\\\\\\frac{5 \\left(4225 \\tau_{L} + 4225 \\tau_{R} - \\frac{6591 w^{2} \\sin{\\left(2 \\theta \\right)}}{2} + 30 \\left(100 \\tau_{L} + 100 \\tau_{R} + 117 \\left(v_{2}^{2} + w^{2}\\right) \\sin{\\left(\\theta \\right)}\\right) \\cos{\\left(\\theta \\right)} - 76050 \\sin{\\left(\\theta \\right)}\\right)}{702 \\left(25 \\cos^{2}{\\left(\\theta \\right)} - 26\\right)}\\\\v_{2}\\end{matrix}\\right]$"
      ],
      "text/plain": [
       "Matrix([\n",
       "[                                                                                                                                                                     v*sin(e_h)],\n",
       "[                                                                                                                                                                              w],\n",
       "[        -(1200*tau_L + 1200*tau_R + 1404*(v2**2 + w**2)*sin(theta) + 65*(50*tau_L + 50*tau_R - 39*w**2*sin(2*theta) - 900*sin(theta))*cos(theta)/2)/(5850*cos(theta)**2 - 6084)],\n",
       "[                                                                    32*(-875*tau_L + 875*tau_R - 2925*v*w*sin(theta) - 1443*v2*w*sin(2*theta))/(13*(3120*sin(theta)**2 + 2051))],\n",
       "[5*(4225*tau_L + 4225*tau_R - 6591*w**2*sin(2*theta)/2 + 30*(100*tau_L + 100*tau_R + 117*(v2**2 + w**2)*sin(theta))*cos(theta) - 76050*sin(theta))/(702*(25*cos(theta)**2 - 26))],\n",
       "[                                                                                                                                                                             v2]])"
      ]
     },
     "execution_count": 174,
     "metadata": {},
     "output_type": "execute_result"
    }
   ],
   "source": [
    "f"
   ]
  },
  {
   "cell_type": "markdown",
   "id": "cf164662",
   "metadata": {},
   "source": [
    "\\left[\\begin{matrix}v \\sin{\\left(e_{h} \\right)}\\\\w\\\\- \\frac{1200 \\tau_{L} + 1200 \\tau_{R} + 1404 \\left(v_{2}^{2} + w^{2}\\right) \\sin{\\left(\\theta \\right)} + \\frac{65 \\left(50 \\tau_{L} + 50 \\tau_{R} - 39 w^{2} \\sin{\\left(2 \\theta \\right)} - 900 \\sin{\\left(\\theta \\right)}\\right) \\cos{\\left(\\theta \\right)}}{2}}{5850 \\cos^{2}{\\left(\\theta \\right)} - 6084}\\\\\\frac{32 \\left(- 875 \\tau_{L} + 875 \\tau_{R} - 2925 v w \\sin{\\left(\\theta \\right)} - 1443 v_{2} w \\sin{\\left(2 \\theta \\right)}\\right)}{13 \\left(3120 \\sin^{2}{\\left(\\theta \\right)} + 2051\\right)}\\\\\\frac{5 \\left(4225 \\tau_{L} + 4225 \\tau_{R} - \\frac{6591 w^{2} \\sin{\\left(2 \\theta \\right)}}{2} + 30 \\left(100 \\tau_{L} + 100 \\tau_{R} + 117 \\left(v_{2}^{2} + w^{2}\\right) \\sin{\\left(\\theta \\right)}\\right) \\cos{\\left(\\theta \\right)} - 76050 \\sin{\\left(\\theta \\right)}\\right)}{702 \\left(25 \\cos^{2}{\\left(\\theta \\right)} - 26\\right)}\\\\v_{2}\\end{matrix}\\right]"
   ]
  },
  {
   "cell_type": "code",
   "execution_count": 9,
   "id": "3ae34e1e",
   "metadata": {},
   "outputs": [
    {
     "name": "stdout",
     "output_type": "stream",
     "text": [
      "[[0.0, 5.0, 0.0, 0.0, 0.0, 0.0], [0.0, 0.0, 0.0, 1.0, 0.0, 0.0], [0.0, 0.0, 0.0, 0.0, 0.0, -125.0], [0.0, 0.0, -0.0, -0.0, -0.0, -0.0], [0.0, 0.0, 0.0, -0.0, -0.0, 541.6666666666666], [0.0, 0.0, 0.0, 0.0, 1.0, 0.0]]\n",
      "\n",
      "\n",
      "[[0.0, 0.0], [0.0, 0.0], [12.072649572649572, 12.072649572649572], [1.0501443948542923, -1.0501443948542923], [-51.46011396011396, -51.46011396011396], [0.0, 0.0]]\n",
      "[-6.+0.j -2.+0.j -1.+0.j -4.+0.j -3.+0.j -5.+0.j]\n",
      "K [[4.571260261345402, 20.950909907196092, -0.0894194561398386, 5.713696744382269, -0.11425337038949632, -5.520919475499702], [-4.570194129677739, -20.94747433536452, -0.05098726240586818, -5.713199408371631, -0.0935811900535876, -5.4519924744126556]]\n",
      "Controllable: True\n"
     ]
    }
   ],
   "source": [
    "# Convert floating-point to rational numbers\n",
    "f = sym.nsimplify(f, rational=True)\n",
    "\n",
    "# Verify equilibrium point\n",
    "f_num = sym.lambdify([e_l, e_h, v, w, theta, v2, tau_R, tau_L], f)\n",
    "# if not np.allclose(f_num(e_l, e_h, v, w, theta, thetadot, tau_R, tau_L), 0.):\n",
    "#     raise Exception('equilibrium point is invalid')\n",
    "\n",
    "# Find A and B in symbolic form\n",
    "A_sym = f.jacobian([e_l, e_h, v, w, v2, theta])\n",
    "B_sym = f.jacobian([tau_R, tau_L])\n",
    "\n",
    "# Create lambda functions to allow numerical evaluation of A and B\n",
    "A_num = sym.lambdify([e_l, e_h, v, w, theta, v2, tau_R, tau_L], A_sym)\n",
    "B_num = sym.lambdify([e_l, e_h, v, w, theta, v2, tau_R, tau_L], B_sym)\n",
    "\n",
    "\n",
    "\n",
    "e_le= 0.\n",
    "e_he = 0.\n",
    "ve = 5.\n",
    "thetae = 0.\n",
    "we = 0.\n",
    "v2e = 0.\n",
    "tau_Re = 0.\n",
    "tau_Le = 0.\n",
    "\n",
    "\n",
    "# Find A and B in numeric form (making sure the result is floating-point)\n",
    "A = A_num(e_le, e_he, ve, we, thetae, v2e, tau_Re, tau_Le).astype(float)\n",
    "B = B_num(e_le, e_he, ve, we, thetae, v2e, tau_Re, tau_Le).astype(float)\n",
    "\n",
    "print(A.tolist())\n",
    "print(\"\\n\")\n",
    "print(B.tolist())\n",
    "\n",
    "p = np.array([-1, -2, -3, -4,-5,-6]).astype(float)\n",
    "\n",
    "K = signal.place_poles(A, B, p).gain_matrix\n",
    "\n",
    "\n",
    "print(\"K\", K.tolist())\n",
    "\n",
    "def W(A,B):\n",
    "    W = B\n",
    "    n = A.shape[0]\n",
    "    for i in range(1, n):\n",
    "        col = np.linalg.matrix_power(A, i) @ B\n",
    "        W = np.block([W, col])\n",
    "#     print(W.shape[0])\n",
    "#     print(np.linalg.matrix_rank(W))\n",
    "#     print(A.shape[0])\n",
    "    print(\"Controllable:\", np.linalg.matrix_rank(W) == A.shape[0])\n",
    "    \n",
    "W(A,B)"
   ]
  },
  {
   "cell_type": "markdown",
   "id": "ranging-permit",
   "metadata": {},
   "source": [
    "Note that one of these ODEs is second-order — you will have to replace this with a set of two first-order ODEs, as usual."
   ]
  }
 ],
 "metadata": {
  "kernelspec": {
   "display_name": "Python 3",
   "language": "python",
   "name": "python3"
  },
  "language_info": {
   "codemirror_mode": {
    "name": "ipython",
    "version": 3
   },
   "file_extension": ".py",
   "mimetype": "text/x-python",
   "name": "python",
   "nbconvert_exporter": "python",
   "pygments_lexer": "ipython3",
   "version": "3.10.2"
  }
 },
 "nbformat": 4,
 "nbformat_minor": 5
}
