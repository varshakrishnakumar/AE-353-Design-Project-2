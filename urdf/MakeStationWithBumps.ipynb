{
 "cells": [
  {
   "cell_type": "markdown",
   "id": "a6d9e4cb",
   "metadata": {},
   "source": [
    "# Generate URDF for station with bumps"
   ]
  },
  {
   "cell_type": "markdown",
   "id": "0effa347",
   "metadata": {},
   "source": [
    "Import modules:"
   ]
  },
  {
   "cell_type": "code",
   "execution_count": null,
   "id": "ac28bbe9",
   "metadata": {},
   "outputs": [],
   "source": [
    "import xml.etree.ElementTree as ET\n",
    "from xml.dom import minidom\n",
    "import numpy as np"
   ]
  },
  {
   "cell_type": "markdown",
   "id": "361644ac",
   "metadata": {},
   "source": [
    "Define helper functions:"
   ]
  },
  {
   "cell_type": "code",
   "execution_count": null,
   "id": "521b2b0d",
   "metadata": {},
   "outputs": [],
   "source": [
    "def add_bump_link(robot, index, radius, length):\n",
    "    link = ET.SubElement(robot, 'link', attrib={'name': f'bumplink{index:02d}'})\n",
    "    vis = ET.SubElement(link, 'visual')\n",
    "    geo = ET.SubElement(vis, 'geometry')\n",
    "    cyl = ET.SubElement(geo,\n",
    "                        'mesh',\n",
    "                        attrib={\n",
    "                            'filename': 'disc.stl',\n",
    "                            'scale': f'{radius:.3f} {radius:.3f} {2 * length:.3f}'\n",
    "                        })\n",
    "    mat = ET.SubElement(vis, 'material', attrib={'name': 'heritage-orange'})\n",
    "    col = ET.SubElement(link, 'collision')\n",
    "    geo = ET.SubElement(col, 'geometry')\n",
    "    cyl = ET.SubElement(geo,\n",
    "                        'mesh',\n",
    "                        attrib={\n",
    "                            'filename': 'disc.stl',\n",
    "                            'scale': f'{radius:.3f} {radius:.3f} {2 * length:.3f}'\n",
    "                        })\n",
    "    ine = ET.SubElement(link, 'inertial')\n",
    "    mas = ET.SubElement(ine, 'mass', attrib={'value': '1.0'})\n",
    "    moi = ET.SubElement(ine, 'inertia', attrib={\n",
    "        'ixx': '0',\n",
    "        'ixy': '0',\n",
    "        'ixz': '0',\n",
    "        'iyy': '0',\n",
    "        'iyz': '0',\n",
    "        'izz': '0',\n",
    "    })\n",
    "\n",
    "def add_bump_joint(robot, index, theta, z):\n",
    "    r = 20.\n",
    "    x = r * np.sin(theta)\n",
    "    y = -r * np.cos(theta)\n",
    "    z = z\n",
    "    roll = (np.pi / 2)\n",
    "    pitch = 0\n",
    "    yaw = theta\n",
    "    joint = ET.SubElement(robot, 'joint', attrib={'name': f'bumpjoint{index:02d}', 'type': 'fixed'})\n",
    "    par = ET.SubElement(joint, 'parent', attrib={'link': 'station'})\n",
    "    chi = ET.SubElement(joint, 'child', attrib={'link': f'bumplink{index:02d}'})\n",
    "    ori = ET.SubElement(\n",
    "        joint,\n",
    "        'origin',\n",
    "        attrib={'xyz': f'{x:.3f} {y:.3f} {z:.3f}',\n",
    "                'rpy': f'{roll:.3f} {pitch:.3f} {yaw:.3f}'},\n",
    "    )"
   ]
  },
  {
   "cell_type": "markdown",
   "id": "af5ef044",
   "metadata": {},
   "source": [
    "Print XML with bump links and joints for copy/paste into URDF:"
   ]
  },
  {
   "cell_type": "code",
   "execution_count": null,
   "id": "d941c3a9",
   "metadata": {},
   "outputs": [],
   "source": [
    "robot = ET.Element('robot')\n",
    "\n",
    "num_bumps = 40\n",
    "theta = np.linspace(0, 2 * np.pi, num_bumps + 2)\n",
    "theta = theta[1:-1]\n",
    "for i in range(num_bumps):\n",
    "    add_bump_link(robot, i, 0.3, 0.02)\n",
    "add_bump_link(robot, num_bumps, 1.5, 0.015)\n",
    "for i in range(num_bumps):\n",
    "    add_bump_joint(robot, i, theta[i] + np.random.uniform(-0.05, 0.05), np.random.uniform(-0.5, 0.5))\n",
    "add_bump_joint(robot, num_bumps, 0., 0.)\n",
    "\n",
    "xmlstr = minidom.parseString(ET.tostring(robot)).toprettyxml(indent=\"  \")\n",
    "print(xmlstr)"
   ]
  }
 ],
 "metadata": {
  "kernelspec": {
   "display_name": "Python 3",
   "langage": "python",
   "name": "python3"
  },
  "language_info": {
   "codemirror_mode": {
    "name": "ipython",
    "version": 3
   },
   "file_extension": ".py",
   "mimetype": "text/x-python",
   "name": "python",
   "nbconvert_exporter": "python",
   "pygments_lexer": "ipython3"
  }
 },
 "nbformat": 4,
 "nbformat_minor": 5
}